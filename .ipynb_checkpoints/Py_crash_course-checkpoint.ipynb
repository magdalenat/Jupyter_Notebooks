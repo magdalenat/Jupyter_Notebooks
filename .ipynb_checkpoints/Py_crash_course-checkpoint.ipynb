{
 "cells": [
  {
   "cell_type": "markdown",
   "metadata": {},
   "source": [
    "Pliki - kody próbpwane podczas przrabiania książki: Python - instruckje dla programisty"
   ]
  },
  {
   "cell_type": "code",
   "execution_count": 4,
   "metadata": {
    "collapsed": false
   },
   "outputs": [
    {
     "name": "stdout",
     "output_type": "stream",
     "text": [
      "Anna Nowak\n",
      "ANNA NOWAK\n",
      "anna nowak\n"
     ]
    }
   ],
   "source": [
    "wiadomosc = \"Witaj, jak się masz\"\n",
    "imie = \"anna\"\n",
    "nazwisko = \"nowak\"\n",
    "#teraz co można zrobić z łańcuchami\n",
    "osoba = imie +\" \" + nazwisko\n",
    "print(osoba.title())\n",
    "print(osoba.upper())\n",
    "print(osoba.lower())"
   ]
  },
  {
   "cell_type": "markdown",
   "metadata": {},
   "source": [
    "do usuwania spacji z przodu, z tylu i w ogóle mamy `lstrip`, `rstrip` oraz `strip`"
   ]
  },
  {
   "cell_type": "code",
   "execution_count": 19,
   "metadata": {
    "collapsed": false
   },
   "outputs": [
    {
     "name": "stdout",
     "output_type": "stream",
     "text": [
      "ala\n",
      "  ala    ma\n",
      "ala    ma    \n",
      "ala    ma\n"
     ]
    }
   ],
   "source": [
    "cos_ze_spacjami = \"  ala    ma    \"\n",
    "print(\"ala\")\n",
    "print(cos_ze_spacjami.rstrip(\" \"))\n",
    "print(cos_ze_spacjami.lstrip(\" \"))\n",
    "print(cos_ze_spacjami.strip(\" \"))\n",
    "# sprawdzić coś jest nie tak, nie usuwa w caości - ze środka"
   ]
  },
  {
   "cell_type": "code",
   "execution_count": null,
   "metadata": {
    "collapsed": true
   },
   "outputs": [],
   "source": []
  }
 ],
 "metadata": {
  "anaconda-cloud": {},
  "kernelspec": {
   "display_name": "Python [default]",
   "language": "python",
   "name": "python3"
  },
  "language_info": {
   "codemirror_mode": {
    "name": "ipython",
    "version": 3
   },
   "file_extension": ".py",
   "mimetype": "text/x-python",
   "name": "python",
   "nbconvert_exporter": "python",
   "pygments_lexer": "ipython3",
   "version": "3.5.2"
  }
 },
 "nbformat": 4,
 "nbformat_minor": 1
}
